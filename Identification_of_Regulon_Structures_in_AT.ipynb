{
  "nbformat": 4,
  "nbformat_minor": 0,
  "metadata": {
    "colab": {
      "provenance": [],
      "gpuType": "T4"
    },
    "kernelspec": {
      "name": "python3",
      "display_name": "Python 3"
    },
    "language_info": {
      "name": "python"
    },
    "accelerator": "GPU"
  },
  "cells": [
    {
      "cell_type": "markdown",
      "source": [
        "# **Imports**"
      ],
      "metadata": {
        "id": "sWhCnslgop8J"
      }
    },
    {
      "cell_type": "code",
      "source": [
        "import os\n",
        "\n",
        "import numpy as np\n",
        "import pandas as pd\n",
        "import matplotlib.pyplot as plt\n",
        "import seaborn as sns\n",
        "from google.colab import drive\n",
        "from scipy.cluster.hierarchy import dendrogram, linkage\n",
        "from sklearn.feature_selection import mutual_info_regression\n",
        "from sklearn.metrics import mutual_info_score"
      ],
      "metadata": {
        "id": "9rAUwInqq5pK"
      },
      "execution_count": 1,
      "outputs": []
    },
    {
      "cell_type": "markdown",
      "source": [
        "# **Data loading and preprocessing**\n",
        "The data should be in a CSV or XLSX format with genes (Geneid) as rows and BAM replicates as columns."
      ],
      "metadata": {
        "id": "pdt4ZtlCfPjX"
      }
    },
    {
      "cell_type": "code",
      "execution_count": null,
      "metadata": {
        "id": "WQ7eXUFBq5El"
      },
      "outputs": [],
      "source": [
        "# Mount Google Drive and load the data file\n",
        "\n",
        "# Mount Google Drive\n",
        "drive.mount(\"/content/drive\", force_remount=True)\n",
        "\n",
        "# Define the path to the data file\n",
        "root_dir = \"/content/drive/MyDrive/\"\n",
        "base_dir = os.path.join(root_dir, \"YOUR_PATH/\")\n",
        "data_file = 'your_file.xlsx'  # For example data.xlsx\n",
        "\n",
        "# Check if the file is CSV or XLSX and load it into a pandas DataFrame\n",
        "file_path = os.path.join(base_dir, data_file)\n",
        "if data_file.endswith('.csv'):\n",
        "    data_df = pd.read_csv(file_path, delimiter=\",\", index_col=0, header=0)\n",
        "elif data_file.endswith('.xlsx'):\n",
        "    data_df = pd.read_excel(file_path, index_col=0, header=0)\n",
        "else:\n",
        "    raise ValueError(\"Unsupported file format. Please provide a CSV or XLSX file.\")\n",
        "\n",
        "# Display the DataFrame\n",
        "data_df"
      ]
    },
    {
      "cell_type": "markdown",
      "source": [
        "**Removing Zero Values from the Dataset**"
      ],
      "metadata": {
        "id": "79lR_b2sfb-v"
      }
    },
    {
      "cell_type": "code",
      "source": [
        "def remove_zeros(df):\n",
        "    \"\"\"\n",
        "    Remove rows with any zeros (except the header).\n",
        "    Save the resulting DataFrame to a new Excel file.\n",
        "    \"\"\"\n",
        "    # Remove rows containing any zeros (excluding the header)\n",
        "    df = df[~(df.iloc[:, 1:] == 0).any(axis=1)]\n",
        "\n",
        "    # Save the resulting DataFrame to a new Excel file\n",
        "    df.to_excel(os.path.join(base_dir, 'data_without_zeros.xlsx'))\n",
        "\n",
        "    return df\n",
        "\n",
        "# Remove rows with zeros and display the resulting DataFrame\n",
        "data_df_without_zeros = remove_zeros(data_df)\n",
        "data_df_without_zeros"
      ],
      "metadata": {
        "id": "FcwXORpUBH81"
      },
      "execution_count": null,
      "outputs": []
    },
    {
      "cell_type": "markdown",
      "source": [
        "# **Detection of Regulon Structures in the Entire Dataset**"
      ],
      "metadata": {
        "id": "m8meBCA2o6PA"
      }
    },
    {
      "cell_type": "code",
      "source": [
        "# Set the random seed for reproducibility\n",
        "np.random.seed(0)\n",
        "\n",
        "# Transpose the data for correlation coefficient and mutual information calculation\n",
        "gene_expression_data_T = data_df_without_zeros.T\n",
        "\n",
        "# Calculate the correlation matrix using Spearman method\n",
        "corr_matrix = gene_expression_data_T.corr(method='spearman')\n",
        "\n",
        "# Create an empty DataFrame for mutual information\n",
        "mi_matrix = pd.DataFrame(index=gene_expression_data_T.columns, columns=gene_expression_data_T.columns, data=0.0)\n",
        "\n",
        "# Calculate mutual information between columns\n",
        "for gen1 in gene_expression_data_T.columns:\n",
        "    for gen2 in gene_expression_data_T.columns:\n",
        "        if gen1 != gen2:\n",
        "            mi_matrix.loc[gen1, gen2] = mutual_info_regression(gene_expression_data_T[[gen1]], gene_expression_data_T[gen2])[0]\n",
        "\n",
        "# Copy the lower half of the matrix to the upper half using numpy\n",
        "mi_matrix.values[np.triu_indices_from(mi_matrix, 1)] = mi_matrix.values.T[np.triu_indices_from(mi_matrix, 1)]\n",
        "\n",
        "# Set diagonal values to the maximum value in the matrix\n",
        "max_mi_value = mi_matrix.max().max()  # The highest value outside the diagonal\n",
        "np.fill_diagonal(mi_matrix.values, max_mi_value)\n",
        "\n",
        "# Normalize the correlation matrix to the range 0-1\n",
        "corr_matrix = (corr_matrix - corr_matrix.min().min()) / (corr_matrix.max().max() - corr_matrix.min().min())\n",
        "\n",
        "# Normalize the mutual information matrix to the range 0-1\n",
        "mi_matrix = (mi_matrix - mi_matrix.min().min()) / (mi_matrix.max().max() - mi_matrix.min().min())\n",
        "\n",
        "# Create a result matrix with threshold values\n",
        "result_matrix = pd.DataFrame(np.zeros_like(corr_matrix), index=corr_matrix.index, columns=corr_matrix.columns)\n",
        "\n",
        "# Define thresholds from lowest to highest\n",
        "thresholds = [0.2, 0.4, 0.6, 0.8, 1]\n",
        "\n",
        "# Create an intersection matrix based on defined thresholds\n",
        "for threshold in thresholds:\n",
        "    condition = (corr_matrix >= threshold) & (mi_matrix >= threshold)\n",
        "    result_matrix[condition] = threshold\n",
        "\n",
        "# Save the result matrix to an Excel file\n",
        "result_matrix.to_excel(os.path.join(base_dir, 'result_matrix.xlsx'))\n",
        "\n",
        "# Visualize the result matrix as a heatmap\n",
        "plt.figure(figsize=(10, 8))\n",
        "sns.heatmap(result_matrix, cmap='viridis', annot=True)\n",
        "plt.title('Heatmap of Potential Regulon Structures')\n",
        "plt.xlabel('Genes')\n",
        "plt.ylabel('Genes')\n",
        "plt.show()\n",
        "\n",
        "# UPGMA visualization using hierarchical clustering\n",
        "linkage_matrix = linkage(1 - result_matrix, method='average')\n",
        "\n",
        "plt.figure(figsize=(8, 8))\n",
        "dendrogram(linkage_matrix, labels=mi_matrix.index, orientation='left', distance_sort='descending')\n",
        "plt.title('UPGMA Dendrogram')\n",
        "plt.xlabel('Genes')\n",
        "plt.ylabel('Distance')\n",
        "plt.show()\n",
        "\n",
        "# Create a binary matrix for values above the 0.8 threshold (but not 1)\n",
        "binary_matrix = pd.DataFrame(np.zeros_like(corr_matrix), index=corr_matrix.index, columns=corr_matrix.columns)\n",
        "condition_08 = (result_matrix >= 0.8) & (result_matrix < 1)\n",
        "binary_matrix[condition_08] = 1\n",
        "\n",
        "# Save the binary matrix to an Excel file\n",
        "binary_matrix.to_excel(os.path.join(base_dir, 'binary_matrix.xlsx'))\n",
        "\n",
        "# Visualize the binary matrix\n",
        "plt.figure(figsize=(8, 8))\n",
        "sns.heatmap(binary_matrix, cmap='binary', annot=True, cbar=False)\n",
        "plt.title('Binary Image of Predicted Potential Regulon Structures')\n",
        "plt.xlabel('Genes')\n",
        "plt.ylabel('Genes')\n",
        "plt.show()"
      ],
      "metadata": {
        "id": "Dk7QG2UEtvfm"
      },
      "execution_count": null,
      "outputs": []
    },
    {
      "cell_type": "markdown",
      "source": [
        "WHY SETTING DIAGONAL VALUES IN MI_MATRIX IS NECESSARY?\n",
        "\n",
        "The mutual_info_regression function from the scikit-learn library is designed to estimate mutual information between two continuous variables. When applied to the same variables, the mutual information should theoretically be maximal. However, in practice, it may not always be consistent due to the way the function is implemented and how the continuous values are handled. Setting the diagonal values to the maximum value observed ensures that self-information is correctly represented as the highest value in the matrix."
      ],
      "metadata": {
        "id": "ytUMnn-_3dGi"
      }
    },
    {
      "cell_type": "markdown",
      "source": [
        "# **Detection of Regulon Structures for a Specific Gene (Geneid)**"
      ],
      "metadata": {
        "id": "IZpdVTQbpRLO"
      }
    },
    {
      "cell_type": "code",
      "source": [
        "# Set the random seed for reproducibility\n",
        "np.random.seed(0)\n",
        "\n",
        "# Define the target gene for analysis\n",
        "target_gene = \"YOUR_GENE\"  # For example AT3G54230\n",
        "\n",
        "# Check if the target gene exists in the data\n",
        "if target_gene not in data_df_without_zeros.index:\n",
        "    raise ValueError(f\"Gene {target_gene} not found in the data.\")\n",
        "\n",
        "# Transpose the data for correlation coefficient and mutual information calculation\n",
        "gene_expression_data_T = data_df_without_zeros.T\n",
        "\n",
        "# Calculate the correlation matrix for the target gene against all other genes using Spearman method\n",
        "corr_matrix = pd.DataFrame(index=gene_expression_data_T.columns, columns=[target_gene])\n",
        "\n",
        "for gene in gene_expression_data_T.columns:\n",
        "    corr_matrix.loc[gene, target_gene] = gene_expression_data_T[target_gene].corr(gene_expression_data_T[gene], method='spearman')\n",
        "\n",
        "# Calculate the mutual information matrix for the target gene against all other genes\n",
        "mi_matrix = pd.DataFrame(index=gene_expression_data_T.columns, columns=[target_gene])\n",
        "\n",
        "for gene in gene_expression_data_T.columns:\n",
        "    mi_value = mutual_info_regression(gene_expression_data_T[[target_gene]], gene_expression_data_T[gene])[0]\n",
        "    mi_matrix.loc[gene, target_gene] = mi_value\n",
        "\n",
        "# Normalize the correlation matrix to the range 0-1\n",
        "corr_matrix = corr_matrix.astype(float)  # Ensure the matrix is of float type for normalization\n",
        "corr_matrix = (corr_matrix - corr_matrix.min().min()) / (corr_matrix.max().max() - corr_matrix.min().min())\n",
        "\n",
        "# Normalize the mutual information matrix to the range 0-1\n",
        "mi_matrix = mi_matrix.astype(float)  # Ensure the matrix is of float type for normalization\n",
        "mi_matrix = (mi_matrix - mi_matrix.min().min()) / (mi_matrix.max().max() - mi_matrix.min().min())\n",
        "\n",
        "# Set the threshold for determining significant correlations and mutual information\n",
        "threshold = 0.9\n",
        "\n",
        "# Create a binary intersection matrix for values above the threshold of 0.9\n",
        "result_matrix = pd.DataFrame(np.zeros_like(corr_matrix), index=corr_matrix.index, columns=corr_matrix.columns)\n",
        "condition = (corr_matrix >= threshold) & (mi_matrix >= threshold)\n",
        "result_matrix[condition] = 1\n",
        "\n",
        "# Remove the target gene from the result matrix\n",
        "result_matrix_no_target = result_matrix.drop(target_gene)\n",
        "\n",
        "# Save the result binary matrix to an Excel file\n",
        "result_matrix_no_target.to_excel(os.path.join(base_dir, 'result_matrix_no_target.xlsx'))\n",
        "\n",
        "# Print the binary matrix as a DataFrame\n",
        "print(\"Binary matrix for common regulation of gene expression with the specified gene:\\n\")\n",
        "print(result_matrix_no_target)\n",
        "\n",
        "# Count the number of ones in the binary matrix\n",
        "total_number_of_ones = int(result_matrix_no_target.values.sum())\n",
        "\n",
        "print(f\"Number of coordinately regulated genes with {target_gene}: {total_number_of_ones}\")"
      ],
      "metadata": {
        "id": "rwqaFZJmvZLu"
      },
      "execution_count": null,
      "outputs": []
    }
  ]
}